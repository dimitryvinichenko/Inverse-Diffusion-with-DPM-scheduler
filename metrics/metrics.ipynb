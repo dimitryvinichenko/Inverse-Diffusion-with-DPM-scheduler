{
 "cells": [
  {
   "cell_type": "code",
   "execution_count": 1,
   "id": "9a194405-32f7-4cea-aee8-b53b29f3012a",
   "metadata": {},
   "outputs": [],
   "source": [
    "from PIL import Image\n",
    "import requests\n",
    "import torch\n",
    "import numpy as np\n",
    "from transformers import CLIPProcessor, CLIPModel\n",
    "\n",
    "# model = CLIPModel.from_pretrained(\"openai/clip-vit-large-patch14\")\n",
    "# processor = CLIPProcessor.from_pretrained(\"openai/clip-vit-large-patch14\")\n",
    "\n",
    "# Load model directly\n",
    "\n",
    "\n",
    "model = CLIPModel.from_pretrained(\"./clip-vit-large-patch14\")\n",
    "processor = CLIPProcessor.from_pretrained(\"./clip-vit-large-patch14\")\n",
    "# model = CLIPModel.from_pretrained(\"laion/CLIP-ViT-H-14-laion2B-s34B-b79K\")\n",
    "# processor = CLIPProcessor.from_pretrained(\"laion/CLIP-ViT-H-14-laion2B-s34B-b79K\")\n",
    "\n",
    "@torch.no_grad()\n",
    "def image_text_cosine_dist(pil_image, text, scaled=False):\n",
    "    \n",
    "    inputs = processor(text=text, \n",
    "                       images=pil_image,\n",
    "                       return_tensors=\"pt\", \n",
    "                       padding=True\n",
    "                      )\n",
    "    new_inputs = {\n",
    "        'input_ids' : inputs.input_ids[:, :77],\n",
    "        'attention_mask' : inputs.attention_mask[:, :77],\n",
    "        'pixel_values' : inputs.pixel_values,\n",
    "    }\n",
    "    outputs = model(**new_inputs)\n",
    "    text_embeds = outputs.text_embeds\n",
    "    image_embeds = outputs.image_embeds\n",
    "    # print(text_embeds.shape)\n",
    "    cosine_score = image_embeds @ text_embeds.T\n",
    "\n",
    "    if scaled:\n",
    "        # the same with outputs.logits_per_image\n",
    "        logit_scale = model.logit_scale.exp()\n",
    "        cosine_score = logit_scale * cosine_score\n",
    "    return cosine_score.item()"
   ]
  },
  {
   "cell_type": "code",
   "execution_count": 50,
   "id": "4de41ef3-5fc0-4db8-8ac5-2ce447354875",
   "metadata": {},
   "outputs": [],
   "source": [
    "orig_prompts =['Beautiful DSLR Photograph of a penguin on the beach, golden hour',\n",
    "             'Realistic photography of a dog on the snow',\n",
    "             'realistic photo of a bear on the rock',\n",
    "             'photo of a puppy on the grass',\n",
    "             'photo of a yellow car in the city',\n",
    "             'Realistic photography of a cat in the forest',\n",
    "             'realistic photo of a wolf on the rock',\n",
    "             'realistic photo of a wolf on the beach',\n",
    "             'realistic photo of a wolf in the snow forest',\n",
    "             'Photo of a sailing boat on the lake',\n",
    "             'Photo of a cat on the windowsill',\n",
    "             'Photo of a white swan swimming on the river',\n",
    "             'Realistic photo of a cat on the sofa',\n",
    "             'Photo of a tiger in the jungle',\n",
    "             'Realistic photo of a rabbit in the garden',\n",
    "             'Photo of a plane flying over the mountains',\n",
    "             'Photo of a lion resting on a rock',\n",
    "             'Photo of a black car on a city street',\n",
    "             'Photo of a deer standing in a forest clearing',\n",
    "             'Photo of a penguin on ice',\n",
    "             'Photo of a raccoon in a tree',\n",
    "             'Realistic photo of goat on a cliff']\n",
    "\n",
    "edit_prompts = ['Beautiful DSLR Photograph of a dog on the beach, golden hour',\n",
    "             'Realistic photography of a cat on the snow',\n",
    "             'realistic photo of a wolf on the rock',\n",
    "             'photo of a kitty on the grass',\n",
    "             'photo of a red car in the city',\n",
    "             'Realistic photography of a dog in the forest',\n",
    "             'realistic photo of a bear on the rock',\n",
    "             'realistic photo of a bear on the beach',\n",
    "             'realistic photo of a dog in the snow forest',\n",
    "             'Photo of a motorboat on the lake',\n",
    "             'Photo of a dog on the windowsill',\n",
    "             'Photo of a black swan swimming on the river',\n",
    "             'Realistic photo of a dog on the sofa',\n",
    "             'Photo of a leopard in the jungle',\n",
    "             'Realistic photo of a squirrel in the garden',\n",
    "             'Photo of a helicopter flying over the mountains',\n",
    "             'Photo of a cheetah resting on a rock',\n",
    "             'Photo of a white car on a city street',\n",
    "             'Photo of a moose standing in a forest clearing',\n",
    "             'Photo of a seal on ice',\n",
    "             'Photo of an owl in a tree',\n",
    "             'Realistic photo of ibex on a cliff']\n",
    "\n",
    "\n"
   ]
  },
  {
   "cell_type": "code",
   "execution_count": null,
   "id": "f8453c7f-ab5a-4dd7-94e3-a5a8e6ceaf5d",
   "metadata": {},
   "outputs": [],
   "source": [
    "import os\n",
    "\n",
    "# Путь к директории с изображениями\n",
    "image_dir = \"/media/alexander/DATA/dima_vinichenko/data/sd_15/mask/\"\n",
    "\n",
    "\n",
    "# Считаем все файлы с расширением .png в директории\n",
    "files = [f for f in os.listdir(image_dir) if f.endswith('.npy')]\n",
    "\n",
    "# Отсортируем список файлов, если нужно\n",
    "files.sort(key=lambda x: int(os.path.splitext(x)[0]))\n",
    "\n",
    "print(\"Файлы в директории:\", files)\n",
    "\n",
    "# Формируем новый список промптов, соответствующих файлам\n",
    "# Например, если есть '1.png' и '3.png', берем orig_prompts[0] и orig_prompts[2]\n",
    "selected_prompts = []\n",
    "\n",
    "for filename in files:\n",
    "    # Извлечь номер из имени файла (например '3' из '3.png')\n",
    "    idx = int(os.path.splitext(filename)[0]) - 1  # индекс для orig_prompts, т.к. индексация с 0\n",
    "    if 0 <= idx < len(orig_prompts):\n",
    "        selected_prompts.append(edit_prompts[idx])\n",
    "\n",
    "print(\"Выбранные промпты:\", selected_prompts)\n"
   ]
  },
  {
   "cell_type": "code",
   "execution_count": null,
   "id": "5f0b9602-f23a-44fc-8104-4974a64dc5b7",
   "metadata": {},
   "outputs": [],
   "source": [
    "images_names = [f.replace('.npy', '.png') for f in files]\n",
    "images_names"
   ]
  },
  {
   "cell_type": "code",
   "execution_count": 80,
   "id": "f2f52936-1d5b-4dcb-a7e5-99c7cc101ad1",
   "metadata": {},
   "outputs": [],
   "source": [
    "path = '/media/alexander/DATA/dima_vinichenko/data/sd_15/DPM_AYS/'"
   ]
  },
  {
   "cell_type": "code",
   "execution_count": 81,
   "id": "59a41476-1f69-4d48-ab11-d982ba6b866e",
   "metadata": {},
   "outputs": [],
   "source": [
    "image_list = []\n",
    "\n",
    "for filename in images_names: \n",
    "\n",
    "    file_path = path  + filename\n",
    "    im=Image.open(file_path)\n",
    "    image_list.append(im)"
   ]
  },
  {
   "cell_type": "code",
   "execution_count": 82,
   "id": "79ef4b36-f1e5-45a6-ac9a-abc55f37110f",
   "metadata": {},
   "outputs": [],
   "source": [
    "CLIP_T_DDIM = []\n",
    "for image, prompt in zip(image_list, selected_prompts):\n",
    "    CLIP_T_DDIM.append(image_text_cosine_dist(image, prompt))"
   ]
  },
  {
   "cell_type": "code",
   "execution_count": null,
   "id": "f554f571-d7d0-47a9-9693-ecbba55c3bb7",
   "metadata": {},
   "outputs": [],
   "source": [
    "CLIP_T_DDIM"
   ]
  },
  {
   "cell_type": "code",
   "execution_count": null,
   "id": "5df44f36-2c08-4df2-9c6a-0066130b690e",
   "metadata": {},
   "outputs": [],
   "source": [
    "np.mean(np.array(CLIP_T_DDIM))"
   ]
  },
  {
   "cell_type": "markdown",
   "id": "2096092d-2054-408e-a33d-a3e0c75ac08d",
   "metadata": {},
   "source": [
    "# MSE"
   ]
  },
  {
   "cell_type": "code",
   "execution_count": 85,
   "id": "13ff5eab-8ff6-4fd3-ad3c-1d55fbd10015",
   "metadata": {},
   "outputs": [],
   "source": [
    "import numpy as np"
   ]
  },
  {
   "cell_type": "markdown",
   "id": "a10fc98a-f867-4109-9bb0-bb6a256adea4",
   "metadata": {},
   "source": [
    "___________________________\n"
   ]
  },
  {
   "cell_type": "code",
   "execution_count": 219,
   "id": "2733792f-a727-4f7d-b029-3741a54eb3c0",
   "metadata": {},
   "outputs": [],
   "source": [
    "path = '/media/alexander/DATA/dima_vinichenko'\n"
   ]
  },
  {
   "cell_type": "code",
   "execution_count": null,
   "id": "4c79bafc-1fdb-4e7a-8100-0d1e38badc73",
   "metadata": {},
   "outputs": [],
   "source": [
    "import os\n",
    "\n",
    "# Путь к директории с изображениями\n",
    "image_dir = \"/media/alexander/DATA/dima_vinichenko/data/SDXL/mask/\"\n",
    "\n",
    "\n",
    "# Считаем все файлы с расширением .png в директории\n",
    "files = [f for f in os.listdir(image_dir) if f.endswith('.npy')]\n",
    "\n",
    "# Отсортируем список файлов, если нужно\n",
    "files.sort(key=lambda x: int(os.path.splitext(x)[0]))\n",
    "\n",
    "print(\"Файлы в директории:\", files)\n",
    "\n",
    "# Формируем новый список промптов, соответствующих файлам\n",
    "# Например, если есть '1.png' и '3.png', берем orig_prompts[0] и orig_prompts[2]\n",
    "selected_prompts = []\n",
    "\n",
    "for filename in files:\n",
    "    # Извлечь номер из имени файла (например '3' из '3.png')\n",
    "    idx = int(os.path.splitext(filename)[0]) - 1  # индекс для orig_prompts, т.к. индексация с 0\n",
    "    if 0 <= idx < len(orig_prompts):\n",
    "        selected_prompts.append(edit_prompts[idx])\n",
    "\n",
    "print(\"Выбранные промпты:\", selected_prompts)\n"
   ]
  },
  {
   "cell_type": "code",
   "execution_count": null,
   "id": "c7d47094-f904-4468-89c1-27184582c7e9",
   "metadata": {},
   "outputs": [],
   "source": [
    "images_names = [f.replace('.npy', '.png') for f in files]\n",
    "images_names"
   ]
  },
  {
   "cell_type": "code",
   "execution_count": 238,
   "id": "974d6542-5b7e-4e04-8ea2-0cb24ab917fc",
   "metadata": {},
   "outputs": [],
   "source": [
    "path = '/media/alexander/DATA/dima_vinichenko/data/SDXL/DPM_AYS/'"
   ]
  },
  {
   "cell_type": "code",
   "execution_count": 239,
   "id": "3e5f1911-f605-46da-929e-eaa945c06ba5",
   "metadata": {},
   "outputs": [],
   "source": [
    "image_list = []\n",
    "\n",
    "for filename in images_names: \n",
    "\n",
    "    file_path = path  + filename\n",
    "    im=Image.open(file_path)\n",
    "    image_list.append(im)"
   ]
  },
  {
   "cell_type": "code",
   "execution_count": 240,
   "id": "95ce1797-a21e-494f-ab49-3317fe861926",
   "metadata": {},
   "outputs": [],
   "source": [
    "path = '/media/alexander/DATA/dima_vinichenko/data/SDXL/DDPM_original/'"
   ]
  },
  {
   "cell_type": "code",
   "execution_count": 241,
   "id": "6433ec3b-acc6-4236-b257-a106c8690a68",
   "metadata": {},
   "outputs": [],
   "source": [
    "orig_image_list = []\n",
    "\n",
    "for filename in images_names: \n",
    "\n",
    "    file_path = path  + filename\n",
    "    im=Image.open(file_path)\n",
    "    orig_image_list.append(im)"
   ]
  },
  {
   "cell_type": "code",
   "execution_count": 242,
   "id": "f4fcb440-a367-4146-a74b-8d090f292f55",
   "metadata": {},
   "outputs": [],
   "source": [
    "# image_list = []\n",
    "\n",
    "# for filename in images_names: \n",
    "\n",
    "#     file_path = path + '/data/1.5/ddim/' + filename\n",
    "#     im=Image.open(file_path)\n",
    "#     image_list.append(im)"
   ]
  },
  {
   "cell_type": "code",
   "execution_count": null,
   "id": "1e7096c7-d474-4b03-b860-be2a8b444203",
   "metadata": {},
   "outputs": [],
   "source": [
    "image_list[0]"
   ]
  },
  {
   "cell_type": "code",
   "execution_count": null,
   "id": "da488cf3-d59f-4df1-b8a9-b4fe07c15cae",
   "metadata": {},
   "outputs": [],
   "source": [
    "orig_image_list[0]"
   ]
  },
  {
   "cell_type": "code",
   "execution_count": null,
   "id": "879f37f9-5be7-48e4-aa55-a42188b1ee16",
   "metadata": {},
   "outputs": [],
   "source": [
    "masks_names = [f.replace('.png', '.npy') for f in files]\n",
    "masks_names\n"
   ]
  },
  {
   "cell_type": "code",
   "execution_count": 246,
   "id": "0903fec4-ee5a-436b-9da4-75c25c60fbc1",
   "metadata": {},
   "outputs": [],
   "source": [
    "path = '/media/alexander/DATA/dima_vinichenko/data/SDXL/mask/'"
   ]
  },
  {
   "cell_type": "code",
   "execution_count": 247,
   "id": "21a8d106-65bc-4206-bd5a-154c3ae7d30c",
   "metadata": {},
   "outputs": [],
   "source": [
    "mask_list = []\n",
    "\n",
    "for filename in masks_names: \n",
    "\n",
    "    file_path = path + filename\n",
    "    mask=np.load(file_path)\n",
    "    mask_list.append(mask)"
   ]
  },
  {
   "cell_type": "code",
   "execution_count": 248,
   "id": "176af1d4-428c-4be8-a203-45abc26309b0",
   "metadata": {},
   "outputs": [],
   "source": [
    "img_array = []\n",
    "orig_img_array = []\n",
    "\n",
    "for orig, image, mask in zip(orig_image_list, image_list, mask_list):\n",
    "\n",
    "    image = np.array(image)\n",
    "    \n",
    "    for i in range(3):\n",
    "        image[:,:,i] = np.multiply(image[:,:,i], mask)\n",
    "    \n",
    "    img = Image.fromarray(image, 'RGB') \n",
    "    img_array.append(img)\n",
    "\n",
    "\n",
    "    orig = np.array(orig)\n",
    "    \n",
    "    for i in range(3):\n",
    "        orig[:,:,i] = np.multiply(orig[:,:,i], mask)\n",
    "    \n",
    "    img = Image.fromarray(orig, 'RGB') \n",
    "    orig_img_array.append(img)"
   ]
  },
  {
   "cell_type": "code",
   "execution_count": null,
   "id": "957381ea-b5ca-4601-9da0-d4c2fc7ac235",
   "metadata": {},
   "outputs": [],
   "source": [
    "img_array[0]"
   ]
  },
  {
   "cell_type": "code",
   "execution_count": null,
   "id": "81fef4e3-8e6e-4fec-9de7-0617c80956c9",
   "metadata": {},
   "outputs": [],
   "source": [
    "orig_img_array[0]"
   ]
  },
  {
   "cell_type": "code",
   "execution_count": 251,
   "id": "08d93f24-299e-4375-8438-48d2597ef216",
   "metadata": {},
   "outputs": [],
   "source": [
    "def mse(imageA, imageB):\n",
    "\t# the 'Mean Squared Error' between the two images is the\n",
    "\t# sum of the squared difference between the two images;\n",
    "\t# NOTE: the two images must have the same dimension\n",
    "\terr = np.sum((imageA.astype(\"float\") - imageB.astype(\"float\")) ** 2)\n",
    "\terr /= float(imageA.shape[0] * imageA.shape[1])\n",
    "\t\n",
    "\t# return the MSE, the lower the error, the more \"similar\"\n",
    "\t# the two images are\n",
    "\treturn err"
   ]
  },
  {
   "cell_type": "code",
   "execution_count": 252,
   "id": "8fcb37b8-7960-433c-b3e2-2bd0dddcea38",
   "metadata": {},
   "outputs": [],
   "source": [
    "mse_dpm = []\n",
    "\n",
    "\n",
    "for i in range(20):\n",
    "    mse_dpm.append(mse(np.array(orig_img_array[i])/255, np.array(img_array[i])/255))"
   ]
  },
  {
   "cell_type": "code",
   "execution_count": null,
   "id": "40af304c-14ad-4dc7-bb98-022bbe543c90",
   "metadata": {},
   "outputs": [],
   "source": [
    "np.mean(np.array(mse_dpm))\n"
   ]
  },
  {
   "cell_type": "code",
   "execution_count": null,
   "id": "551bf792-f074-4509-8c4b-8e80ed2bbe9b",
   "metadata": {},
   "outputs": [],
   "source": []
  }
 ],
 "metadata": {
  "kernelspec": {
   "display_name": "research",
   "language": "python",
   "name": "research"
  },
  "language_info": {
   "codemirror_mode": {
    "name": "ipython",
    "version": 3
   },
   "file_extension": ".py",
   "mimetype": "text/x-python",
   "name": "python",
   "nbconvert_exporter": "python",
   "pygments_lexer": "ipython3",
   "version": "3.10.10"
  }
 },
 "nbformat": 4,
 "nbformat_minor": 5
}
